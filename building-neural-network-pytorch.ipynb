{
 "cells": [
  {
   "cell_type": "markdown",
   "id": "151ea128",
   "metadata": {
    "papermill": {
     "duration": 0.007878,
     "end_time": "2025-10-05T07:55:26.518278",
     "exception": false,
     "start_time": "2025-10-05T07:55:26.510400",
     "status": "completed"
    },
    "tags": []
   },
   "source": [
    "## ===== IMPORTS ====="
   ]
  },
  {
   "cell_type": "code",
   "execution_count": 1,
   "id": "cb18687d",
   "metadata": {
    "execution": {
     "iopub.execute_input": "2025-10-05T07:55:26.530822Z",
     "iopub.status.busy": "2025-10-05T07:55:26.530519Z",
     "iopub.status.idle": "2025-10-05T07:55:31.430188Z",
     "shell.execute_reply": "2025-10-05T07:55:31.429211Z"
    },
    "papermill": {
     "duration": 4.907992,
     "end_time": "2025-10-05T07:55:31.432034",
     "exception": false,
     "start_time": "2025-10-05T07:55:26.524042",
     "status": "completed"
    },
    "tags": []
   },
   "outputs": [],
   "source": [
    "import torch\n",
    "import matplotlib.pyplot as plt"
   ]
  },
  {
   "cell_type": "markdown",
   "id": "6b36e180",
   "metadata": {
    "papermill": {
     "duration": 0.005631,
     "end_time": "2025-10-05T07:55:31.443438",
     "exception": false,
     "start_time": "2025-10-05T07:55:31.437807",
     "status": "completed"
    },
    "tags": []
   },
   "source": [
    "## ===== DATASET CREATION ====="
   ]
  },
  {
   "cell_type": "code",
   "execution_count": 2,
   "id": "2582ba05",
   "metadata": {
    "execution": {
     "iopub.execute_input": "2025-10-05T07:55:31.455861Z",
     "iopub.status.busy": "2025-10-05T07:55:31.455198Z",
     "iopub.status.idle": "2025-10-05T07:55:31.557955Z",
     "shell.execute_reply": "2025-10-05T07:55:31.556982Z"
    },
    "papermill": {
     "duration": 0.11078,
     "end_time": "2025-10-05T07:55:31.559496",
     "exception": false,
     "start_time": "2025-10-05T07:55:31.448716",
     "status": "completed"
    },
    "tags": []
   },
   "outputs": [
    {
     "name": "stdout",
     "output_type": "stream",
     "text": [
      "📊 Creating Custom Dataset...\n",
      "Input:\n",
      "tensor([[1., 0., 1., 0.],\n",
      "        [1., 0., 1., 1.],\n",
      "        [0., 1., 0., 1.]])\n",
      "Shape of input: torch.Size([3, 4])\n"
     ]
    }
   ],
   "source": [
    "print(\"📊 Creating Custom Dataset...\")\n",
    "\n",
    "# Creating input tensor\n",
    "X = torch.tensor([[1, 0, 1, 0], \n",
    "                  [1, 0, 1, 1], \n",
    "                  [0, 1, 0, 1]], dtype=torch.float)\n",
    "\n",
    "print('Input:')\n",
    "print(X)\n",
    "print('Shape of input:', X.shape)"
   ]
  },
  {
   "cell_type": "code",
   "execution_count": 3,
   "id": "8c78612f",
   "metadata": {
    "execution": {
     "iopub.execute_input": "2025-10-05T07:55:31.572716Z",
     "iopub.status.busy": "2025-10-05T07:55:31.572408Z",
     "iopub.status.idle": "2025-10-05T07:55:31.585089Z",
     "shell.execute_reply": "2025-10-05T07:55:31.584111Z"
    },
    "papermill": {
     "duration": 0.021435,
     "end_time": "2025-10-05T07:55:31.586611",
     "exception": false,
     "start_time": "2025-10-05T07:55:31.565176",
     "status": "completed"
    },
    "tags": []
   },
   "outputs": [
    {
     "name": "stdout",
     "output_type": "stream",
     "text": [
      "\n",
      "Input in matrix form:\n",
      "tensor([[1., 1., 0.],\n",
      "        [0., 0., 1.],\n",
      "        [1., 1., 0.],\n",
      "        [0., 1., 1.]])\n",
      "Shape of input matrix: torch.Size([4, 3])\n"
     ]
    }
   ],
   "source": [
    "# Convert input to matrix form (transpose)\n",
    "X = X.t()\n",
    "print('\\nInput in matrix form:')\n",
    "print(X)\n",
    "print('Shape of input matrix:', X.shape)"
   ]
  },
  {
   "cell_type": "code",
   "execution_count": 4,
   "id": "f34a8120",
   "metadata": {
    "execution": {
     "iopub.execute_input": "2025-10-05T07:55:31.599276Z",
     "iopub.status.busy": "2025-10-05T07:55:31.598942Z",
     "iopub.status.idle": "2025-10-05T07:55:31.605453Z",
     "shell.execute_reply": "2025-10-05T07:55:31.604470Z"
    },
    "papermill": {
     "duration": 0.014367,
     "end_time": "2025-10-05T07:55:31.606777",
     "exception": false,
     "start_time": "2025-10-05T07:55:31.592410",
     "status": "completed"
    },
    "tags": []
   },
   "outputs": [
    {
     "name": "stdout",
     "output_type": "stream",
     "text": [
      "\n",
      "Actual Output:\n",
      "tensor([[1.],\n",
      "        [1.],\n",
      "        [0.]])\n"
     ]
    }
   ],
   "source": [
    "# Creating output tensor\n",
    "y = torch.tensor([[1], [1], [0]], dtype=torch.float)\n",
    "print('\\nActual Output:')\n",
    "print(y)"
   ]
  },
  {
   "cell_type": "code",
   "execution_count": 5,
   "id": "226501d7",
   "metadata": {
    "execution": {
     "iopub.execute_input": "2025-10-05T07:55:31.619906Z",
     "iopub.status.busy": "2025-10-05T07:55:31.619599Z",
     "iopub.status.idle": "2025-10-05T07:55:31.625810Z",
     "shell.execute_reply": "2025-10-05T07:55:31.624899Z"
    },
    "papermill": {
     "duration": 0.014694,
     "end_time": "2025-10-05T07:55:31.627111",
     "exception": false,
     "start_time": "2025-10-05T07:55:31.612417",
     "status": "completed"
    },
    "tags": []
   },
   "outputs": [
    {
     "name": "stdout",
     "output_type": "stream",
     "text": [
      "\n",
      "Output in matrix form:\n",
      "tensor([[1., 1., 0.]])\n",
      "Shape of output: torch.Size([1, 3])\n"
     ]
    }
   ],
   "source": [
    "# Output in matrix form (transpose)\n",
    "y = y.t()\n",
    "print('\\nOutput in matrix form:')\n",
    "print(y)\n",
    "print('Shape of output:', y.shape)"
   ]
  },
  {
   "cell_type": "markdown",
   "id": "210b06a6",
   "metadata": {
    "papermill": {
     "duration": 0.005917,
     "end_time": "2025-10-05T07:55:31.638782",
     "exception": false,
     "start_time": "2025-10-05T07:55:31.632865",
     "status": "completed"
    },
    "tags": []
   },
   "source": [
    "## ===== MODEL ARCHITECTURE ====="
   ]
  },
  {
   "cell_type": "code",
   "execution_count": 6,
   "id": "8b6ead22",
   "metadata": {
    "execution": {
     "iopub.execute_input": "2025-10-05T07:55:31.651477Z",
     "iopub.status.busy": "2025-10-05T07:55:31.651151Z",
     "iopub.status.idle": "2025-10-05T07:55:31.656992Z",
     "shell.execute_reply": "2025-10-05T07:55:31.656031Z"
    },
    "papermill": {
     "duration": 0.013875,
     "end_time": "2025-10-05T07:55:31.658380",
     "exception": false,
     "start_time": "2025-10-05T07:55:31.644505",
     "status": "completed"
    },
    "tags": []
   },
   "outputs": [
    {
     "name": "stdout",
     "output_type": "stream",
     "text": [
      "\n",
      "🏗️ Defining Model Architecture...\n",
      "Input neurons: 4\n",
      "Hidden neurons: 3\n",
      "Output neurons: 1\n"
     ]
    }
   ],
   "source": [
    "print(\"\\n🏗️ Defining Model Architecture...\")\n",
    "\n",
    "# Number of neurons in each layer\n",
    "input_layer_neurons = X.shape[0]  # 4 features\n",
    "hidden_layer_neurons = 3\n",
    "output_neurons = 1\n",
    "\n",
    "print(f\"Input neurons: {input_layer_neurons}\")\n",
    "print(f\"Hidden neurons: {hidden_layer_neurons}\")\n",
    "print(f\"Output neurons: {output_neurons}\")"
   ]
  },
  {
   "cell_type": "markdown",
   "id": "19c0fbd3",
   "metadata": {
    "papermill": {
     "duration": 0.005589,
     "end_time": "2025-10-05T07:55:31.669874",
     "exception": false,
     "start_time": "2025-10-05T07:55:31.664285",
     "status": "completed"
    },
    "tags": []
   },
   "source": [
    "## ===== WEIGHT INITIALIZATION ====="
   ]
  },
  {
   "cell_type": "code",
   "execution_count": 7,
   "id": "f8d5842b",
   "metadata": {
    "execution": {
     "iopub.execute_input": "2025-10-05T07:55:31.683056Z",
     "iopub.status.busy": "2025-10-05T07:55:31.682735Z",
     "iopub.status.idle": "2025-10-05T07:55:31.695638Z",
     "shell.execute_reply": "2025-10-05T07:55:31.694608Z"
    },
    "papermill": {
     "duration": 0.021517,
     "end_time": "2025-10-05T07:55:31.697121",
     "exception": false,
     "start_time": "2025-10-05T07:55:31.675604",
     "status": "completed"
    },
    "tags": []
   },
   "outputs": [
    {
     "name": "stdout",
     "output_type": "stream",
     "text": [
      "\n",
      "⚖️ Initializing Weights...\n",
      "Weight shapes:\n",
      "w_input_hidden: torch.Size([4, 3])\n",
      "w_hidden_output: torch.Size([3, 1])\n",
      "\n",
      "Initial w_input_hidden:\n",
      "tensor([[ 0.6655,  0.3280, -0.3604],\n",
      "        [ 0.8558,  0.3673,  0.8234],\n",
      "        [ 3.0736, -1.1368,  0.3140],\n",
      "        [ 0.4151, -0.4712,  0.2417]])\n",
      "\n",
      "Initial w_hidden_output:\n",
      "tensor([[-1.4421],\n",
      "        [-0.8250],\n",
      "        [-0.0918]])\n"
     ]
    }
   ],
   "source": [
    "print(\"\\n⚖️ Initializing Weights...\")\n",
    "\n",
    "# Weight matrices\n",
    "w_input_hidden = torch.randn(input_layer_neurons, hidden_layer_neurons)\n",
    "w_hidden_output = torch.randn(hidden_layer_neurons, output_neurons)\n",
    "\n",
    "print(\"Weight shapes:\")\n",
    "print(f\"w_input_hidden: {w_input_hidden.shape}\")\n",
    "print(f\"w_hidden_output: {w_hidden_output.shape}\")\n",
    "\n",
    "print(\"\\nInitial w_input_hidden:\")\n",
    "print(w_input_hidden)\n",
    "print(\"\\nInitial w_hidden_output:\")\n",
    "print(w_hidden_output)"
   ]
  },
  {
   "cell_type": "markdown",
   "id": "3967a4d0",
   "metadata": {
    "papermill": {
     "duration": 0.005851,
     "end_time": "2025-10-05T07:55:31.708828",
     "exception": false,
     "start_time": "2025-10-05T07:55:31.702977",
     "status": "completed"
    },
    "tags": []
   },
   "source": [
    "## ===== ACTIVATION FUNCTION ====="
   ]
  },
  {
   "cell_type": "code",
   "execution_count": 8,
   "id": "b5281221",
   "metadata": {
    "execution": {
     "iopub.execute_input": "2025-10-05T07:55:31.721865Z",
     "iopub.status.busy": "2025-10-05T07:55:31.721185Z",
     "iopub.status.idle": "2025-10-05T07:55:31.725739Z",
     "shell.execute_reply": "2025-10-05T07:55:31.725053Z"
    },
    "papermill": {
     "duration": 0.01249,
     "end_time": "2025-10-05T07:55:31.727093",
     "exception": false,
     "start_time": "2025-10-05T07:55:31.714603",
     "status": "completed"
    },
    "tags": []
   },
   "outputs": [],
   "source": [
    "def sigmoid(s):\n",
    "    \"\"\"Sigmoid activation function\"\"\"\n",
    "    return 1 / (1 + torch.exp(-s))"
   ]
  },
  {
   "cell_type": "markdown",
   "id": "39a1a7e1",
   "metadata": {
    "papermill": {
     "duration": 0.005496,
     "end_time": "2025-10-05T07:55:31.738270",
     "exception": false,
     "start_time": "2025-10-05T07:55:31.732774",
     "status": "completed"
    },
    "tags": []
   },
   "source": [
    "## ===== FORWARD PROPAGATION ====="
   ]
  },
  {
   "cell_type": "code",
   "execution_count": 9,
   "id": "7447d30f",
   "metadata": {
    "execution": {
     "iopub.execute_input": "2025-10-05T07:55:31.751525Z",
     "iopub.status.busy": "2025-10-05T07:55:31.751200Z",
     "iopub.status.idle": "2025-10-05T07:55:31.788249Z",
     "shell.execute_reply": "2025-10-05T07:55:31.787046Z"
    },
    "papermill": {
     "duration": 0.04541,
     "end_time": "2025-10-05T07:55:31.789942",
     "exception": false,
     "start_time": "2025-10-05T07:55:31.744532",
     "status": "completed"
    },
    "tags": []
   },
   "outputs": [
    {
     "name": "stdout",
     "output_type": "stream",
     "text": [
      "\n",
      "🔄 Performing Forward Propagation...\n",
      "Hidden layer activations shape: torch.Size([3, 3])\n",
      "Model output:\n",
      "tensor([[0.1535, 0.1612, 0.1700]])\n",
      "Actual target:\n",
      "tensor([[1., 1., 0.]])\n"
     ]
    }
   ],
   "source": [
    "print(\"\\n🔄 Performing Forward Propagation...\")\n",
    "\n",
    "# Hidden layer calculations\n",
    "hidden_layer_input = torch.matmul(w_input_hidden.t(), X)\n",
    "hidden_layer_activations = sigmoid(hidden_layer_input)\n",
    "\n",
    "print(\"Hidden layer activations shape:\", hidden_layer_activations.shape)\n",
    "\n",
    "# Output layer calculations\n",
    "output_layer_input = torch.matmul(w_hidden_output.t(), hidden_layer_activations)\n",
    "output = sigmoid(output_layer_input)\n",
    "\n",
    "print(\"Model output:\")\n",
    "print(output)\n",
    "print(\"Actual target:\")\n",
    "print(y)"
   ]
  },
  {
   "cell_type": "markdown",
   "id": "b99152cf",
   "metadata": {
    "papermill": {
     "duration": 0.005856,
     "end_time": "2025-10-05T07:55:31.802948",
     "exception": false,
     "start_time": "2025-10-05T07:55:31.797092",
     "status": "completed"
    },
    "tags": []
   },
   "source": [
    "## ===== CALCULATE ERROR ====="
   ]
  },
  {
   "cell_type": "code",
   "execution_count": 10,
   "id": "d085d123",
   "metadata": {
    "execution": {
     "iopub.execute_input": "2025-10-05T07:55:31.816108Z",
     "iopub.status.busy": "2025-10-05T07:55:31.815783Z",
     "iopub.status.idle": "2025-10-05T07:55:31.824777Z",
     "shell.execute_reply": "2025-10-05T07:55:31.823598Z"
    },
    "papermill": {
     "duration": 0.01752,
     "end_time": "2025-10-05T07:55:31.826417",
     "exception": false,
     "start_time": "2025-10-05T07:55:31.808897",
     "status": "completed"
    },
    "tags": []
   },
   "outputs": [
    {
     "name": "stdout",
     "output_type": "stream",
     "text": [
      "\n",
      "📉 Calculating Error...\n",
      "Error for each sample:\n",
      "tensor([[0.3583, 0.3518, 0.0145]])\n"
     ]
    }
   ],
   "source": [
    "print(\"\\n📉 Calculating Error...\")\n",
    "error = torch.pow(y - output, 2) / 2\n",
    "print(\"Error for each sample:\")\n",
    "print(error)"
   ]
  },
  {
   "cell_type": "markdown",
   "id": "bcf5a51a",
   "metadata": {
    "papermill": {
     "duration": 0.005692,
     "end_time": "2025-10-05T07:55:31.838110",
     "exception": false,
     "start_time": "2025-10-05T07:55:31.832418",
     "status": "completed"
    },
    "tags": []
   },
   "source": [
    "## ===== BACKWARD PROPAGATION ====="
   ]
  },
  {
   "cell_type": "code",
   "execution_count": 11,
   "id": "7c4be1a1",
   "metadata": {
    "execution": {
     "iopub.execute_input": "2025-10-05T07:55:31.850966Z",
     "iopub.status.busy": "2025-10-05T07:55:31.850684Z",
     "iopub.status.idle": "2025-10-05T07:55:31.855294Z",
     "shell.execute_reply": "2025-10-05T07:55:31.854364Z"
    },
    "papermill": {
     "duration": 0.012614,
     "end_time": "2025-10-05T07:55:31.856651",
     "exception": false,
     "start_time": "2025-10-05T07:55:31.844037",
     "status": "completed"
    },
    "tags": []
   },
   "outputs": [
    {
     "name": "stdout",
     "output_type": "stream",
     "text": [
      "\n",
      "🔄 Performing Backward Propagation...\n"
     ]
    }
   ],
   "source": [
    "print(\"\\n🔄 Performing Backward Propagation...\")\n",
    "\n",
    "# Learning rate\n",
    "lr = 0.01"
   ]
  },
  {
   "cell_type": "markdown",
   "id": "4f492e2a",
   "metadata": {
    "papermill": {
     "duration": 0.00588,
     "end_time": "2025-10-05T07:55:31.868488",
     "exception": false,
     "start_time": "2025-10-05T07:55:31.862608",
     "status": "completed"
    },
    "tags": []
   },
   "source": [
    "### --- Output Layer Gradients ---"
   ]
  },
  {
   "cell_type": "code",
   "execution_count": 12,
   "id": "60413a70",
   "metadata": {
    "execution": {
     "iopub.execute_input": "2025-10-05T07:55:31.882937Z",
     "iopub.status.busy": "2025-10-05T07:55:31.881803Z",
     "iopub.status.idle": "2025-10-05T07:55:31.891286Z",
     "shell.execute_reply": "2025-10-05T07:55:31.890480Z"
    },
    "papermill": {
     "duration": 0.018125,
     "end_time": "2025-10-05T07:55:31.892620",
     "exception": false,
     "start_time": "2025-10-05T07:55:31.874495",
     "status": "completed"
    },
    "tags": []
   },
   "outputs": [
    {
     "name": "stdout",
     "output_type": "stream",
     "text": [
      "\n",
      "📊 Calculating Output Layer Gradients...\n",
      "Gradient for hidden-output weights calculated\n"
     ]
    }
   ],
   "source": [
    "print(\"\\n📊 Calculating Output Layer Gradients...\")\n",
    "\n",
    "# Rate of change of error w.r.t output\n",
    "error_wrt_output = -(y - output)\n",
    "\n",
    "# Rate of change of output w.r.t Z2 (sigmoid derivative)\n",
    "output_wrt_Z2 = torch.mul(output, (1 - output))\n",
    "\n",
    "# Rate of change of Z2 w.r.t weights between hidden and output layer\n",
    "Z2_wrt_who = hidden_layer_activations\n",
    "\n",
    "# Rate of change of error w.r.t weights between hidden and output layer\n",
    "error_wrt_who = torch.matmul(Z2_wrt_who, (error_wrt_output * output_wrt_Z2).t())\n",
    "\n",
    "print(\"Gradient for hidden-output weights calculated\")"
   ]
  },
  {
   "cell_type": "markdown",
   "id": "34f49d1f",
   "metadata": {
    "papermill": {
     "duration": 0.005807,
     "end_time": "2025-10-05T07:55:31.904752",
     "exception": false,
     "start_time": "2025-10-05T07:55:31.898945",
     "status": "completed"
    },
    "tags": []
   },
   "source": [
    "### --- Hidden Layer Gradients ---"
   ]
  },
  {
   "cell_type": "code",
   "execution_count": 13,
   "id": "88b93885",
   "metadata": {
    "execution": {
     "iopub.execute_input": "2025-10-05T07:55:31.918100Z",
     "iopub.status.busy": "2025-10-05T07:55:31.917771Z",
     "iopub.status.idle": "2025-10-05T07:55:31.926674Z",
     "shell.execute_reply": "2025-10-05T07:55:31.925809Z"
    },
    "papermill": {
     "duration": 0.017475,
     "end_time": "2025-10-05T07:55:31.928131",
     "exception": false,
     "start_time": "2025-10-05T07:55:31.910656",
     "status": "completed"
    },
    "tags": []
   },
   "outputs": [
    {
     "name": "stdout",
     "output_type": "stream",
     "text": [
      "\n",
      "📊 Calculating Hidden Layer Gradients...\n",
      "Gradient for input-hidden weights calculated\n"
     ]
    }
   ],
   "source": [
    "print(\"\\n📊 Calculating Hidden Layer Gradients...\")\n",
    "\n",
    "# Rate of change of Z2 w.r.t hidden layer activations\n",
    "Z2_wrt_h1 = w_hidden_output\n",
    "\n",
    "# Rate of change of hidden layer activations w.r.t Z1 (sigmoid derivative)\n",
    "h1_wrt_Z1 = torch.mul(hidden_layer_activations, (1 - hidden_layer_activations))\n",
    "\n",
    "# Rate of change of Z1 w.r.t weights between input and hidden layer\n",
    "Z1_wrt_wih = X\n",
    "\n",
    "# Rate of change of error w.r.t weights between input and hidden layer\n",
    "error_wrt_wih = torch.matmul(Z1_wrt_wih, \n",
    "                            (h1_wrt_Z1 * torch.matmul(Z2_wrt_h1, \n",
    "                            (output_wrt_Z2 * error_wrt_output))).t())\n",
    "\n",
    "print(\"Gradient for input-hidden weights calculated\")"
   ]
  },
  {
   "cell_type": "markdown",
   "id": "cba4f699",
   "metadata": {
    "papermill": {
     "duration": 0.005817,
     "end_time": "2025-10-05T07:55:31.940439",
     "exception": false,
     "start_time": "2025-10-05T07:55:31.934622",
     "status": "completed"
    },
    "tags": []
   },
   "source": [
    "## ===== UPDATE WEIGHTS ====="
   ]
  },
  {
   "cell_type": "code",
   "execution_count": 14,
   "id": "84a1b97e",
   "metadata": {
    "execution": {
     "iopub.execute_input": "2025-10-05T07:55:31.953938Z",
     "iopub.status.busy": "2025-10-05T07:55:31.953597Z",
     "iopub.status.idle": "2025-10-05T07:55:31.961814Z",
     "shell.execute_reply": "2025-10-05T07:55:31.960829Z"
    },
    "papermill": {
     "duration": 0.016664,
     "end_time": "2025-10-05T07:55:31.963288",
     "exception": false,
     "start_time": "2025-10-05T07:55:31.946624",
     "status": "completed"
    },
    "tags": []
   },
   "outputs": [
    {
     "name": "stdout",
     "output_type": "stream",
     "text": [
      "\n",
      "🔄 Updating Weights...\n",
      "Weights before update:\n",
      "w_hidden_output: tensor([-1.4421, -0.8250, -0.0918])\n",
      "w_input_hidden: tensor([ 0.6655,  0.3280, -0.3604,  0.8558,  0.3673,  0.8234,  3.0736, -1.1368,\n",
      "         0.3140,  0.4151, -0.4712,  0.2417])\n"
     ]
    }
   ],
   "source": [
    "print(\"\\n🔄 Updating Weights...\")\n",
    "\n",
    "print(\"Weights before update:\")\n",
    "print(\"w_hidden_output:\", w_hidden_output.flatten())\n",
    "print(\"w_input_hidden:\", w_input_hidden.flatten())"
   ]
  },
  {
   "cell_type": "markdown",
   "id": "dab4d7f2",
   "metadata": {
    "papermill": {
     "duration": 0.006027,
     "end_time": "2025-10-05T07:55:31.975689",
     "exception": false,
     "start_time": "2025-10-05T07:55:31.969662",
     "status": "completed"
    },
    "tags": []
   },
   "source": [
    "### --- Update weights ---"
   ]
  },
  {
   "cell_type": "code",
   "execution_count": 15,
   "id": "652f4a89",
   "metadata": {
    "execution": {
     "iopub.execute_input": "2025-10-05T07:55:31.989390Z",
     "iopub.status.busy": "2025-10-05T07:55:31.989088Z",
     "iopub.status.idle": "2025-10-05T07:55:31.996256Z",
     "shell.execute_reply": "2025-10-05T07:55:31.995345Z"
    },
    "papermill": {
     "duration": 0.015657,
     "end_time": "2025-10-05T07:55:31.997544",
     "exception": false,
     "start_time": "2025-10-05T07:55:31.981887",
     "status": "completed"
    },
    "tags": []
   },
   "outputs": [
    {
     "name": "stdout",
     "output_type": "stream",
     "text": [
      "\n",
      "Weights after update:\n",
      "w_hidden_output: tensor([-1.4401, -0.8245, -0.0908])\n",
      "w_input_hidden: tensor([ 0.6654,  0.3277, -0.3604,  0.8559,  0.3674,  0.8234,  3.0735, -1.1372,\n",
      "         0.3139,  0.4151, -0.4713,  0.2417])\n"
     ]
    }
   ],
   "source": [
    "w_hidden_output = w_hidden_output - lr * error_wrt_who\n",
    "w_input_hidden = w_input_hidden - lr * error_wrt_wih\n",
    "\n",
    "print(\"\\nWeights after update:\")\n",
    "print(\"w_hidden_output:\", w_hidden_output.flatten())\n",
    "print(\"w_input_hidden:\", w_input_hidden.flatten())"
   ]
  },
  {
   "cell_type": "markdown",
   "id": "83050c54",
   "metadata": {
    "papermill": {
     "duration": 0.005904,
     "end_time": "2025-10-05T07:55:32.009881",
     "exception": false,
     "start_time": "2025-10-05T07:55:32.003977",
     "status": "completed"
    },
    "tags": []
   },
   "source": [
    "## ===== COMPLETE TRAINING LOOP ====="
   ]
  },
  {
   "cell_type": "code",
   "execution_count": 16,
   "id": "37c81ace",
   "metadata": {
    "execution": {
     "iopub.execute_input": "2025-10-05T07:55:32.023461Z",
     "iopub.status.busy": "2025-10-05T07:55:32.023178Z",
     "iopub.status.idle": "2025-10-05T07:55:32.031527Z",
     "shell.execute_reply": "2025-10-05T07:55:32.030453Z"
    },
    "papermill": {
     "duration": 0.017007,
     "end_time": "2025-10-05T07:55:32.032887",
     "exception": false,
     "start_time": "2025-10-05T07:55:32.015880",
     "status": "completed"
    },
    "tags": []
   },
   "outputs": [
    {
     "name": "stdout",
     "output_type": "stream",
     "text": [
      "\n",
      "🎯 Starting Complete Training...\n",
      "Training for 10000 epochs with learning rate 0.01\n",
      "\n",
      "Initial weights:\n",
      "w_input_hidden: tensor([ 0.3749, -0.5951,  1.3088, -1.5283,  1.3467, -0.7338,  0.1540, -1.4488,\n",
      "        -0.8916,  0.6199, -0.6063, -1.6517])\n",
      "w_hidden_output: tensor([ 0.4677,  0.3556, -1.1606])\n"
     ]
    }
   ],
   "source": [
    "print(\"\\n🎯 Starting Complete Training...\")\n",
    "\n",
    "# Re-initialize weights for training\n",
    "w_input_hidden = torch.randn(input_layer_neurons, hidden_layer_neurons, dtype=torch.float)\n",
    "w_hidden_output = torch.randn(hidden_layer_neurons, output_neurons, dtype=torch.float)\n",
    "\n",
    "# Training parameters\n",
    "lr = 0.01\n",
    "epochs = 10000\n",
    "\n",
    "print(f\"Training for {epochs} epochs with learning rate {lr}\")\n",
    "\n",
    "# Store errors for plotting\n",
    "error_epoch = []\n",
    "\n",
    "print(\"\\nInitial weights:\")\n",
    "print(\"w_input_hidden:\", w_input_hidden.flatten())\n",
    "print(\"w_hidden_output:\", w_hidden_output.flatten())"
   ]
  },
  {
   "cell_type": "markdown",
   "id": "b61cd3fc",
   "metadata": {
    "papermill": {
     "duration": 0.005936,
     "end_time": "2025-10-05T07:55:32.045220",
     "exception": false,
     "start_time": "2025-10-05T07:55:32.039284",
     "status": "completed"
    },
    "tags": []
   },
   "source": [
    "### --- Training loop ---"
   ]
  },
  {
   "cell_type": "code",
   "execution_count": 17,
   "id": "6aa174df",
   "metadata": {
    "execution": {
     "iopub.execute_input": "2025-10-05T07:55:32.058690Z",
     "iopub.status.busy": "2025-10-05T07:55:32.058356Z",
     "iopub.status.idle": "2025-10-05T07:55:33.942981Z",
     "shell.execute_reply": "2025-10-05T07:55:33.941862Z"
    },
    "papermill": {
     "duration": 1.893821,
     "end_time": "2025-10-05T07:55:33.945025",
     "exception": false,
     "start_time": "2025-10-05T07:55:32.051204",
     "status": "completed"
    },
    "tags": []
   },
   "outputs": [
    {
     "name": "stdout",
     "output_type": "stream",
     "text": [
      "Epoch 0: Error = 0.148926\n",
      "Epoch 1000: Error = 0.068565\n",
      "Epoch 2000: Error = 0.035581\n",
      "Epoch 3000: Error = 0.019815\n",
      "Epoch 4000: Error = 0.012529\n",
      "Epoch 5000: Error = 0.008792\n",
      "Epoch 6000: Error = 0.006633\n",
      "Epoch 7000: Error = 0.005263\n",
      "Epoch 8000: Error = 0.004330\n",
      "Epoch 9000: Error = 0.003660\n"
     ]
    }
   ],
   "source": [
    "for epoch in range(epochs):\n",
    "    # === FORWARD PROPAGATION ===\n",
    "    # Hidden layer\n",
    "    hidden_layer_input = torch.matmul(w_input_hidden.t(), X)\n",
    "    hidden_layer_activations = sigmoid(hidden_layer_input)\n",
    "    \n",
    "    # Output layer\n",
    "    output_layer_input = torch.matmul(w_hidden_output.t(), hidden_layer_activations)\n",
    "    output = sigmoid(output_layer_input)\n",
    "    \n",
    "    # === CALCULATE ERROR ===\n",
    "    error = torch.pow(y - output, 2) / 2\n",
    "    mean_error = torch.mean(error)\n",
    "    error_epoch.append(mean_error.item())\n",
    "    \n",
    "    # === BACKWARD PROPAGATION ===\n",
    "    # Output layer gradients\n",
    "    error_wrt_output = -(y - output)\n",
    "    output_wrt_Z2 = torch.mul(output, (1 - output))\n",
    "    Z2_wrt_who = hidden_layer_activations\n",
    "    error_wrt_who = torch.matmul(Z2_wrt_who, (error_wrt_output * output_wrt_Z2).t())\n",
    "    \n",
    "    # Hidden layer gradients\n",
    "    Z2_wrt_h1 = w_hidden_output\n",
    "    h1_wrt_Z1 = torch.mul(hidden_layer_activations, (1 - hidden_layer_activations))\n",
    "    Z1_wrt_wih = X\n",
    "    error_wrt_wih = torch.matmul(Z1_wrt_wih, \n",
    "                                (h1_wrt_Z1 * torch.matmul(Z2_wrt_h1, \n",
    "                                (output_wrt_Z2 * error_wrt_output))).t())\n",
    "    \n",
    "    # === UPDATE WEIGHTS ===\n",
    "    w_hidden_output = w_hidden_output - lr * error_wrt_who\n",
    "    w_input_hidden = w_input_hidden - lr * error_wrt_wih\n",
    "    \n",
    "    # Print progress every 1000 epochs\n",
    "    if epoch % 1000 == 0:\n",
    "        print(f\"Epoch {epoch}: Error = {mean_error.item():.6f}\")"
   ]
  },
  {
   "cell_type": "markdown",
   "id": "d222e5df",
   "metadata": {
    "papermill": {
     "duration": 0.006786,
     "end_time": "2025-10-05T07:55:33.959139",
     "exception": false,
     "start_time": "2025-10-05T07:55:33.952353",
     "status": "completed"
    },
    "tags": []
   },
   "source": [
    "## ===== RESULTS ====="
   ]
  },
  {
   "cell_type": "code",
   "execution_count": 18,
   "id": "5cd95777",
   "metadata": {
    "execution": {
     "iopub.execute_input": "2025-10-05T07:55:33.974364Z",
     "iopub.status.busy": "2025-10-05T07:55:33.973739Z",
     "iopub.status.idle": "2025-10-05T07:55:33.982263Z",
     "shell.execute_reply": "2025-10-05T07:55:33.981169Z"
    },
    "papermill": {
     "duration": 0.017724,
     "end_time": "2025-10-05T07:55:33.983682",
     "exception": false,
     "start_time": "2025-10-05T07:55:33.965958",
     "status": "completed"
    },
    "tags": []
   },
   "outputs": [
    {
     "name": "stdout",
     "output_type": "stream",
     "text": [
      "\n",
      "📈 Training Completed!\n",
      "\n",
      "Final weights:\n",
      "w_input_hidden: tensor([ 1.3152e+00, -8.6491e-01,  8.0595e-01, -2.5327e+00,  2.0566e+00,\n",
      "        -5.2457e-01,  1.0943e+00, -1.7185e+00, -1.3944e+00, -2.5092e-02,\n",
      "        -9.1450e-04, -1.5825e+00])\n",
      "w_hidden_output: tensor([ 3.1683, -2.6831, -0.2585])\n",
      "\n",
      "Final output from model:\n",
      "tensor([[0.9325, 0.9362, 0.1017]])\n",
      "\n",
      "Actual target:\n",
      "tensor([[1., 1., 0.]])\n",
      "\n",
      "Final error for each sample:\n",
      "tensor([[0.0023, 0.0020, 0.0052]])\n"
     ]
    }
   ],
   "source": [
    "print(\"\\n📈 Training Completed!\")\n",
    "print(\"\\nFinal weights:\")\n",
    "print(\"w_input_hidden:\", w_input_hidden.flatten())\n",
    "print(\"w_hidden_output:\", w_hidden_output.flatten())\n",
    "\n",
    "print(\"\\nFinal output from model:\")\n",
    "print(output)\n",
    "\n",
    "print(\"\\nActual target:\")\n",
    "print(y)\n",
    "\n",
    "print(\"\\nFinal error for each sample:\")\n",
    "print(error)"
   ]
  },
  {
   "cell_type": "markdown",
   "id": "7987d55d",
   "metadata": {
    "papermill": {
     "duration": 0.006662,
     "end_time": "2025-10-05T07:55:33.997469",
     "exception": false,
     "start_time": "2025-10-05T07:55:33.990807",
     "status": "completed"
    },
    "tags": []
   },
   "source": [
    "## ===== VISUALIZATION ====="
   ]
  },
  {
   "cell_type": "code",
   "execution_count": 19,
   "id": "9a7716f4",
   "metadata": {
    "execution": {
     "iopub.execute_input": "2025-10-05T07:55:34.012338Z",
     "iopub.status.busy": "2025-10-05T07:55:34.012003Z",
     "iopub.status.idle": "2025-10-05T07:55:34.291916Z",
     "shell.execute_reply": "2025-10-05T07:55:34.291093Z"
    },
    "papermill": {
     "duration": 0.289,
     "end_time": "2025-10-05T07:55:34.293418",
     "exception": false,
     "start_time": "2025-10-05T07:55:34.004418",
     "status": "completed"
    },
    "tags": []
   },
   "outputs": [
    {
     "name": "stdout",
     "output_type": "stream",
     "text": [
      "\n",
      "📊 Plotting Training Progress...\n"
     ]
    },
    {
     "data": {
      "image/png": "[encoded data removed]",
      "text/plain": [
       "<Figure size 1000x600 with 1 Axes>"
      ]
     },
     "metadata": {},
     "output_type": "display_data"
    }
   ],
   "source": [
    "print(\"\\n📊 Plotting Training Progress...\")\n",
    "plt.figure(figsize=(10, 6))\n",
    "plt.plot(range(1, epochs + 1), error_epoch)\n",
    "plt.title('Training Error Over Epochs')\n",
    "plt.xlabel('Epochs')\n",
    "plt.ylabel('Mean Squared Error')\n",
    "plt.grid(True, alpha=0.3)\n",
    "plt.show()"
   ]
  },
  {
   "cell_type": "markdown",
   "id": "d7404dd3",
   "metadata": {
    "papermill": {
     "duration": 0.007307,
     "end_time": "2025-10-05T07:55:34.308815",
     "exception": false,
     "start_time": "2025-10-05T07:55:34.301508",
     "status": "completed"
    },
    "tags": []
   },
   "source": [
    "## ===== PERFORMANCE ANALYSIS ====="
   ]
  },
  {
   "cell_type": "code",
   "execution_count": 20,
   "id": "28e48e50",
   "metadata": {
    "_cell_guid": "b1076dfc-b9ad-4769-8c92-a6c4dae69d19",
    "_uuid": "8f2839f25d086af736a60e9eeb907d3b93b6e0e5",
    "execution": {
     "iopub.execute_input": "2025-10-05T07:55:34.325755Z",
     "iopub.status.busy": "2025-10-05T07:55:34.325415Z",
     "iopub.status.idle": "2025-10-05T07:55:34.332989Z",
     "shell.execute_reply": "2025-10-05T07:55:34.332035Z"
    },
    "papermill": {
     "duration": 0.017966,
     "end_time": "2025-10-05T07:55:34.334307",
     "exception": false,
     "start_time": "2025-10-05T07:55:34.316341",
     "status": "completed"
    },
    "tags": []
   },
   "outputs": [
    {
     "name": "stdout",
     "output_type": "stream",
     "text": [
      "\n",
      "🎯 Performance Analysis:\n",
      "Final Accuracy: 100.00%\n",
      "\n",
      "Predictions vs Actual:\n",
      "Sample 1: Predicted = 0.9325, Actual = 1.0, Error = 0.002276\n",
      "Sample 2: Predicted = 0.9362, Actual = 1.0, Error = 0.002035\n",
      "Sample 3: Predicted = 0.1017, Actual = 0.0, Error = 0.005169\n",
      "\n",
      "✅ Neural Network Training Completed Successfully!\n"
     ]
    }
   ],
   "source": [
    "print(\"\\n🎯 Performance Analysis:\")\n",
    "final_predictions = (output > 0.5).float()\n",
    "accuracy = torch.mean((final_predictions == y).float()) * 100\n",
    "print(f\"Final Accuracy: {accuracy.item():.2f}%\")\n",
    "\n",
    "print(\"\\nPredictions vs Actual:\")\n",
    "for i in range(X.shape[1]):\n",
    "    print(f\"Sample {i+1}: Predicted = {output[0][i].item():.4f}, Actual = {y[0][i].item()}, Error = {error[0][i].item():.6f}\")\n",
    "\n",
    "print(\"\\n✅ Neural Network Training Completed Successfully!\")"
   ]
  }
 ],
 "metadata": {
  "kaggle": {
   "accelerator": "none",
   "dataSources": [],
   "dockerImageVersionId": 31089,
   "isGpuEnabled": false,
   "isInternetEnabled": true,
   "language": "python",
   "sourceType": "notebook"
  },
  "kernelspec": {
   "display_name": "Python 3",
   "language": "python",
   "name": "python3"
  },
  "language_info": {
   "codemirror_mode": {
    "name": "ipython",
    "version": 3
   },
   "file_extension": ".py",
   "mimetype": "text/x-python",
   "name": "python",
   "nbconvert_exporter": "python",
   "pygments_lexer": "ipython3",
   "version": "3.11.13"
  },
  "papermill": {
   "default_parameters": {},
   "duration": 14.504976,
   "end_time": "2025-10-05T07:55:35.763612",
   "environment_variables": {},
   "exception": null,
   "input_path": "__notebook__.ipynb",
   "output_path": "__notebook__.ipynb",
   "parameters": {},
   "start_time": "2025-10-05T07:55:21.258636",
   "version": "2.6.0"
  }
 },
 "nbformat": 4,
 "nbformat_minor": 5
}
